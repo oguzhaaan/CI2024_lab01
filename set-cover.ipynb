{
 "cells": [
  {
   "cell_type": "markdown",
   "metadata": {},
   "source": [
    "Copyright **`(c)`** 2024 Giovanni Squillero `<giovanni.squillero@polito.it>`  \n",
    "[`https://github.com/squillero/computational-intelligence`](https://github.com/squillero/computational-intelligence)  \n",
    "Free for personal or classroom use; see [`LICENSE.md`](https://github.com/squillero/computational-intelligence/blob/master/LICENSE.md) for details.  "
   ]
  },
  {
   "cell_type": "markdown",
   "metadata": {},
   "source": [
    "# Set Cover problem\n",
    "\n",
    "See: https://en.wikipedia.org/wiki/Set_cover_problem"
   ]
  },
  {
   "cell_type": "code",
   "execution_count": 2,
   "metadata": {},
   "outputs": [],
   "source": [
    "from random import random, seed\n",
    "from itertools import product\n",
    "import numpy as np\n",
    "from itertools import accumulate\n",
    "from matplotlib import pyplot as plt\n",
    "from tqdm import tqdm\n",
    "from icecream import ic"
   ]
  },
  {
   "cell_type": "markdown",
   "metadata": {},
   "source": [
    "## Reproducible Initialization\n",
    "\n",
    "If you want to get reproducible results, use `rng` (and restart the kernel); for non-reproducible ones, use `np.random`."
   ]
  },
  {
   "cell_type": "code",
   "execution_count": 17,
   "metadata": {},
   "outputs": [],
   "source": [
    "UNIVERSE_SIZE = 100\n",
    "NUM_SETS = 10\n",
    "DENSITY = 0.2\n",
    "\n",
    "rng = np.random.Generator(np.random.PCG64([UNIVERSE_SIZE, NUM_SETS, int(10_000 * DENSITY)]))"
   ]
  },
  {
   "cell_type": "code",
   "execution_count": 18,
   "metadata": {},
   "outputs": [],
   "source": [
    "# DON'T EDIT THESE LINES!\n",
    "\n",
    "SETS = np.random.random((NUM_SETS, UNIVERSE_SIZE)) < DENSITY\n",
    "for s in range(UNIVERSE_SIZE):\n",
    "    if not np.any(SETS[:, s]):\n",
    "        SETS[np.random.randint(NUM_SETS), s] = True\n",
    "COSTS = np.pow(SETS.sum(axis=1), 1.1)"
   ]
  },
  {
   "cell_type": "code",
   "execution_count": 19,
   "metadata": {},
   "outputs": [
    {
     "data": {
      "text/plain": [
       "array([[False, False,  True, False, False, False, False, False, False,\n",
       "        False, False, False, False, False, False, False, False, False,\n",
       "        False,  True, False, False, False, False, False, False, False,\n",
       "        False, False, False, False, False, False, False,  True,  True,\n",
       "        False, False, False, False, False,  True, False, False,  True,\n",
       "        False, False, False, False, False,  True, False,  True, False,\n",
       "        False, False, False, False, False, False,  True,  True,  True,\n",
       "         True,  True, False, False,  True,  True, False,  True, False,\n",
       "        False,  True,  True, False, False, False, False, False, False,\n",
       "        False,  True, False, False, False, False, False, False, False,\n",
       "        False, False, False, False, False, False, False, False, False,\n",
       "        False],\n",
       "       [False, False, False, False, False, False, False, False, False,\n",
       "        False, False, False, False, False, False,  True, False,  True,\n",
       "        False, False, False, False, False, False, False, False, False,\n",
       "         True, False, False, False, False, False, False, False, False,\n",
       "         True,  True,  True, False, False, False,  True, False,  True,\n",
       "        False, False, False, False, False, False, False,  True,  True,\n",
       "        False,  True, False, False,  True, False, False,  True, False,\n",
       "        False, False,  True, False, False, False, False,  True, False,\n",
       "        False,  True, False, False, False, False, False,  True,  True,\n",
       "         True, False, False, False, False, False, False,  True, False,\n",
       "        False, False, False, False, False, False, False,  True, False,\n",
       "         True],\n",
       "       [False, False, False,  True, False, False,  True, False,  True,\n",
       "        False,  True, False, False,  True, False, False,  True, False,\n",
       "        False, False,  True, False, False, False, False,  True, False,\n",
       "        False, False, False, False, False,  True, False,  True,  True,\n",
       "        False, False, False, False, False, False, False, False, False,\n",
       "        False, False, False, False, False,  True, False, False,  True,\n",
       "         True, False, False, False, False, False,  True, False,  True,\n",
       "        False, False, False, False, False, False, False, False, False,\n",
       "         True, False, False, False, False, False, False, False, False,\n",
       "        False, False, False, False, False, False, False, False, False,\n",
       "         True,  True, False, False, False,  True, False, False, False,\n",
       "         True],\n",
       "       [False, False, False, False,  True, False,  True, False, False,\n",
       "        False, False,  True, False,  True, False, False, False, False,\n",
       "        False, False, False, False, False,  True, False, False,  True,\n",
       "        False,  True,  True, False, False, False, False, False, False,\n",
       "        False, False, False, False,  True, False, False, False, False,\n",
       "        False, False, False, False, False, False,  True, False,  True,\n",
       "        False, False,  True, False, False,  True, False, False, False,\n",
       "        False, False,  True,  True, False, False, False, False,  True,\n",
       "         True, False, False, False, False, False,  True, False,  True,\n",
       "        False, False, False, False, False, False,  True, False, False,\n",
       "        False, False, False, False, False, False, False, False,  True,\n",
       "        False],\n",
       "       [False, False, False, False, False, False,  True, False, False,\n",
       "        False,  True, False,  True, False, False, False, False, False,\n",
       "        False,  True,  True,  True, False, False, False, False, False,\n",
       "        False, False, False, False, False, False, False, False, False,\n",
       "        False, False, False,  True, False, False, False, False,  True,\n",
       "        False, False,  True,  True, False, False, False,  True, False,\n",
       "        False, False, False, False, False, False, False, False, False,\n",
       "        False,  True, False, False, False, False, False, False, False,\n",
       "        False, False, False, False,  True, False, False, False, False,\n",
       "        False, False, False, False, False, False, False, False, False,\n",
       "        False, False, False, False, False,  True, False, False, False,\n",
       "        False],\n",
       "       [ True, False,  True, False, False, False, False, False, False,\n",
       "        False, False, False,  True, False, False, False, False, False,\n",
       "         True, False, False,  True, False, False, False, False,  True,\n",
       "         True,  True, False, False, False, False, False,  True, False,\n",
       "        False, False, False,  True, False,  True, False, False, False,\n",
       "        False,  True, False, False, False, False, False, False,  True,\n",
       "        False, False, False, False, False, False, False, False, False,\n",
       "        False, False, False,  True, False, False, False, False,  True,\n",
       "        False, False, False, False, False, False, False,  True, False,\n",
       "         True, False,  True, False,  True, False, False, False, False,\n",
       "        False, False,  True,  True, False, False,  True, False, False,\n",
       "        False],\n",
       "       [False,  True, False, False,  True, False, False,  True, False,\n",
       "        False, False, False, False,  True,  True, False, False, False,\n",
       "        False, False,  True, False, False, False, False, False, False,\n",
       "        False, False, False,  True,  True, False,  True, False,  True,\n",
       "         True, False,  True, False, False,  True, False, False, False,\n",
       "        False,  True, False, False,  True, False,  True, False, False,\n",
       "        False, False, False, False, False, False, False, False, False,\n",
       "         True,  True, False, False, False, False, False, False, False,\n",
       "        False, False, False, False, False, False,  True, False,  True,\n",
       "        False, False, False, False,  True, False, False, False, False,\n",
       "         True, False, False, False, False, False,  True, False,  True,\n",
       "        False],\n",
       "       [False,  True,  True, False, False,  True, False, False, False,\n",
       "         True, False, False, False, False, False, False, False, False,\n",
       "        False, False, False, False,  True, False, False,  True,  True,\n",
       "        False, False, False, False, False, False, False,  True, False,\n",
       "        False,  True,  True, False,  True, False, False, False, False,\n",
       "         True, False, False, False, False, False, False, False,  True,\n",
       "        False, False, False,  True, False, False, False, False, False,\n",
       "        False,  True, False, False, False,  True, False, False, False,\n",
       "        False, False, False,  True, False,  True, False, False, False,\n",
       "        False,  True, False,  True, False, False, False, False,  True,\n",
       "        False,  True, False,  True,  True, False, False, False, False,\n",
       "         True],\n",
       "       [ True, False,  True, False, False, False,  True, False,  True,\n",
       "        False,  True, False, False, False, False, False, False, False,\n",
       "        False, False, False, False, False, False, False, False, False,\n",
       "        False, False, False, False, False, False,  True, False, False,\n",
       "        False,  True,  True, False, False, False, False, False, False,\n",
       "        False,  True,  True, False, False, False, False,  True, False,\n",
       "        False, False, False, False, False, False,  True, False,  True,\n",
       "        False, False,  True, False, False,  True,  True, False, False,\n",
       "        False, False, False,  True, False, False, False,  True, False,\n",
       "        False, False, False, False, False,  True, False, False, False,\n",
       "        False, False, False, False, False, False, False,  True, False,\n",
       "        False],\n",
       "       [ True, False,  True, False, False, False, False, False, False,\n",
       "        False, False, False, False, False, False, False, False, False,\n",
       "         True,  True,  True, False, False, False,  True, False, False,\n",
       "        False, False,  True, False, False,  True, False, False, False,\n",
       "        False, False,  True, False, False, False,  True,  True,  True,\n",
       "        False,  True,  True, False, False, False, False, False, False,\n",
       "         True, False, False, False, False,  True,  True, False, False,\n",
       "        False, False, False, False,  True, False, False, False,  True,\n",
       "        False,  True, False, False, False, False, False, False, False,\n",
       "         True, False, False, False, False, False, False, False, False,\n",
       "        False,  True, False, False, False, False, False, False, False,\n",
       "        False]])"
      ]
     },
     "execution_count": 19,
     "metadata": {},
     "output_type": "execute_result"
    }
   ],
   "source": [
    "SETS"
   ]
  },
  {
   "cell_type": "code",
   "execution_count": 20,
   "metadata": {},
   "outputs": [
    {
     "data": {
      "text/plain": [
       "array([25.50521337, 29.96849606, 28.47352424, 28.47352424, 18.22807636,\n",
       "       29.96849606, 32.97861145, 34.49324154, 26.98565695, 29.96849606])"
      ]
     },
     "execution_count": 20,
     "metadata": {},
     "output_type": "execute_result"
    }
   ],
   "source": [
    "COSTS"
   ]
  },
  {
   "cell_type": "markdown",
   "metadata": {},
   "source": [
    "## Helper Functions"
   ]
  },
  {
   "cell_type": "code",
   "execution_count": 21,
   "metadata": {},
   "outputs": [],
   "source": [
    "def valid(solution):\n",
    "    \"\"\"Checks wether solution is valid (ie. covers all universe)\"\"\"\n",
    "    return np.all(np.logical_or.reduce(SETS[solution]))\n",
    "\n",
    "\n",
    "def cost(solution):\n",
    "    \"\"\"Returns the cost of a solution (to be minimized)\"\"\"\n",
    "    return COSTS[solution].sum()"
   ]
  },
  {
   "cell_type": "code",
   "execution_count": 22,
   "metadata": {},
   "outputs": [],
   "source": [
    "def tweak(solution, tabu_list, tabu_tenure=5):\n",
    "    new_solution = solution.copy()\n",
    "    index = None\n",
    "    attempts = 0\n",
    "    max_attempts = 150  # Limit the number of attempts to avoid infinite loops\n",
    "\n",
    "    while (index is None or np.random.random() < 0.4) and attempts < max_attempts:\n",
    "        index = np.random.randint(0, NUM_SETS)\n",
    "        if index not in tabu_list:\n",
    "            new_solution[index] = not new_solution[index]\n",
    "            tabu_list.append(index)\n",
    "            if len(tabu_list) > tabu_tenure:\n",
    "                tabu_list.pop(0)  # Maintain the tabu list size\n",
    "            break\n",
    "        attempts += 1\n",
    "\n",
    "    return new_solution"
   ]
  },
  {
   "cell_type": "code",
   "execution_count": 28,
   "metadata": {},
   "outputs": [
    {
     "name": "stderr",
     "output_type": "stream",
     "text": [
      "100%|██████████| 100/100 [00:00<00:00, 6665.56it/s]\n"
     ]
    }
   ],
   "source": [
    "solution = np.full(NUM_SETS, True)\n",
    "\n",
    "history = [cost(solution)]\n",
    "tabu_list = []\n",
    "\n",
    "for n in tqdm(range(UNIVERSE_SIZE)):\n",
    "    new_solution = tweak(solution, tabu_list)\n",
    "    if cost(new_solution) < cost(solution) and valid(new_solution):\n",
    "        solution = new_solution\n",
    "    history.append(cost(solution))\n",
    "\n",
    "        \n",
    "ic(cost(solution))\n",
    "ic(history.index(cost(solution)))\n",
    "print(history)\n",
    "\n",
    "plt.figure(figsize=(14, 8))\n",
    "plt.plot(\n",
    "    range(len(history)),\n",
    "    list(accumulate(history, min)),\n",
    "    color=\"red\",\n",
    ")\n",
    "_ = plt.scatter(range(len(history)), history, marker=\".\")"
   ]
  },
  {
   "cell_type": "code",
   "execution_count": 30,
   "metadata": {},
   "outputs": [],
   "source": [
    "UNIVERSE_SIZE = 1000\n",
    "NUM_SETS = 100\n",
    "DENSITY = 0.2\n",
    "\n",
    "rng = np.random.Generator(np.random.PCG64([UNIVERSE_SIZE, NUM_SETS, int(10_000 * DENSITY)]))"
   ]
  },
  {
   "cell_type": "code",
   "execution_count": 31,
   "metadata": {},
   "outputs": [],
   "source": [
    "# DON'T EDIT THESE LINES!\n",
    "\n",
    "SETS = np.random.random((NUM_SETS, UNIVERSE_SIZE)) < DENSITY\n",
    "for s in range(UNIVERSE_SIZE):\n",
    "    if not np.any(SETS[:, s]):\n",
    "        SETS[np.random.randint(NUM_SETS), s] = True\n",
    "COSTS = np.pow(SETS.sum(axis=1), 1.1)"
   ]
  },
  {
   "cell_type": "code",
   "execution_count": 32,
   "metadata": {},
   "outputs": [
    {
     "data": {
      "text/plain": [
       "array([[False, False, False, ..., False, False, False],\n",
       "       [False, False, False, ..., False, False, False],\n",
       "       [False, False, False, ...,  True, False, False],\n",
       "       ...,\n",
       "       [False, False, False, ..., False, False,  True],\n",
       "       [False, False,  True, ..., False, False,  True],\n",
       "       [False,  True, False, ..., False, False, False]])"
      ]
     },
     "execution_count": 32,
     "metadata": {},
     "output_type": "execute_result"
    }
   ],
   "source": [
    "SETS"
   ]
  },
  {
   "cell_type": "code",
   "execution_count": 33,
   "metadata": {},
   "outputs": [
    {
     "data": {
      "text/plain": [
       "array([347.21076699, 345.33901163, 328.5351964 , 360.3385286 ,\n",
       "       339.72929293, 326.67284883, 321.09161243, 309.95568429,\n",
       "       308.10319271, 349.08344012, 326.67284883, 300.70339686,\n",
       "       315.5191819 , 335.99414485, 332.2627678 , 358.4604323 ,\n",
       "       349.08344012, 354.7069259 , 337.86124965, 352.83152354,\n",
       "       347.21076699, 349.08344012, 354.7069259 , 319.23315096,\n",
       "       373.50992197, 313.66368376, 334.1279828 , 362.21751522,\n",
       "       341.59827047, 392.39939734, 302.55181014, 302.55181014,\n",
       "       319.23315096, 343.46817808, 315.5191819 , 349.08344012,\n",
       "       335.99414485, 354.7069259 , 324.81146595, 349.08344012,\n",
       "       335.99414485, 321.09161243, 349.08344012, 364.09738836,\n",
       "       356.58323011, 309.95568429, 339.72929293, 345.33901163,\n",
       "       347.21076699, 322.95105229, 367.85977926, 349.08344012,\n",
       "       369.74228963, 300.70339686, 309.95568429, 304.4012506 ,\n",
       "       326.67284883, 339.72929293, 321.09161243, 298.85601593,\n",
       "       343.46817808, 345.33901163, 321.09161243, 326.67284883,\n",
       "       317.37567255, 309.95568429, 313.66368376, 306.25171314,\n",
       "       352.83152354, 341.59827047, 350.95702696, 322.95105229,\n",
       "       330.39850421, 339.72929293, 350.95702696, 308.10319271,\n",
       "       317.37567255, 388.61475241, 313.66368376, 367.85977926,\n",
       "       326.67284883, 345.33901163, 373.50992197, 352.83152354,\n",
       "       337.86124965, 364.09738836, 332.2627678 , 317.37567255,\n",
       "       324.81146595, 345.33901163, 382.94407054, 335.99414485,\n",
       "       319.23315096, 364.09738836, 341.59827047, 354.7069259 ,\n",
       "       365.97814428, 330.39850421, 337.86124965, 341.59827047])"
      ]
     },
     "execution_count": 33,
     "metadata": {},
     "output_type": "execute_result"
    }
   ],
   "source": [
    "COSTS"
   ]
  },
  {
   "cell_type": "code",
   "execution_count": 34,
   "metadata": {},
   "outputs": [],
   "source": [
    "def valid(solution):\n",
    "    \"\"\"Checks wether solution is valid (ie. covers all universe)\"\"\"\n",
    "    return np.all(np.logical_or.reduce(SETS[solution]))\n",
    "\n",
    "\n",
    "def cost(solution):\n",
    "    \"\"\"Returns the cost of a solution (to be minimized)\"\"\"\n",
    "    return COSTS[solution].sum()"
   ]
  },
  {
   "cell_type": "code",
   "execution_count": 35,
   "metadata": {},
   "outputs": [],
   "source": [
    "def tweak(solution, tabu_list, tabu_tenure=5):\n",
    "    new_solution = solution.copy()\n",
    "    index = None\n",
    "    attempts = 0\n",
    "    max_attempts = 150  # Limit the number of attempts to avoid infinite loops\n",
    "\n",
    "    while (index is None or np.random.random() < 0.4) and attempts < max_attempts:\n",
    "        index = np.random.randint(0, NUM_SETS)\n",
    "        if index not in tabu_list:\n",
    "            new_solution[index] = not new_solution[index]\n",
    "            tabu_list.append(index)\n",
    "            if len(tabu_list) > tabu_tenure:\n",
    "                tabu_list.pop(0)  # Maintain the tabu list size\n",
    "            break\n",
    "        attempts += 1\n",
    "\n",
    "    return new_solution"
   ]
  },
  {
   "cell_type": "code",
   "execution_count": 37,
   "metadata": {},
   "outputs": [
    {
     "name": "stderr",
     "output_type": "stream",
     "text": [
      "100%|██████████| 1000/1000 [00:00<00:00, 25068.61it/s]\n",
      "ic| cost(solution): np.float64(7214.225020932979)\n",
      "ic| history.index(cost(solution)): 177\n"
     ]
    },
    {
     "data": {
      "image/png": "[encoded data removed]",
      "text/plain": [
       "<Figure size 1400x800 with 1 Axes>"
      ]
     },
     "metadata": {},
     "output_type": "display_data"
    }
   ],
   "source": [
    "solution = np.full(NUM_SETS, True)\n",
    "\n",
    "history = [cost(solution)]\n",
    "tabu_list = []\n",
    "\n",
    "for n in tqdm(range(UNIVERSE_SIZE)):\n",
    "    new_solution = tweak(solution, tabu_list)\n",
    "    if cost(new_solution) < cost(solution) and valid(new_solution):\n",
    "        solution = new_solution\n",
    "    history.append(cost(solution))\n",
    "\n",
    "        \n",
    "ic(cost(solution))\n",
    "ic(history.index(cost(solution)))\n",
    "##print(history)\n",
    "\n",
    "plt.figure(figsize=(14, 8))\n",
    "plt.plot(\n",
    "    range(len(history)),\n",
    "    list(accumulate(history, min)),\n",
    "    color=\"red\",\n",
    ")\n",
    "_ = plt.scatter(range(len(history)), history, marker=\".\")"
   ]
  },
  {
   "cell_type": "code",
   "execution_count": 38,
   "metadata": {},
   "outputs": [],
   "source": [
    "UNIVERSE_SIZE = 10000\n",
    "NUM_SETS = 1000\n",
    "DENSITY = 0.2\n",
    "\n",
    "rng = np.random.Generator(np.random.PCG64([UNIVERSE_SIZE, NUM_SETS, int(10_000 * DENSITY)]))"
   ]
  },
  {
   "cell_type": "code",
   "execution_count": 39,
   "metadata": {},
   "outputs": [],
   "source": [
    "# DON'T EDIT THESE LINES!\n",
    "\n",
    "SETS = np.random.random((NUM_SETS, UNIVERSE_SIZE)) < DENSITY\n",
    "for s in range(UNIVERSE_SIZE):\n",
    "    if not np.any(SETS[:, s]):\n",
    "        SETS[np.random.randint(NUM_SETS), s] = True\n",
    "COSTS = np.pow(SETS.sum(axis=1), 1.1)"
   ]
  },
  {
   "cell_type": "code",
   "execution_count": 40,
   "metadata": {},
   "outputs": [
    {
     "data": {
      "text/plain": [
       "array([[False,  True, False, ..., False, False,  True],\n",
       "       [False, False,  True, ..., False, False, False],\n",
       "       [False, False, False, ..., False, False,  True],\n",
       "       ...,\n",
       "       [ True, False, False, ...,  True, False, False],\n",
       "       [False,  True, False, ...,  True, False, False],\n",
       "       [ True, False, False, ..., False, False, False]])"
      ]
     },
     "execution_count": 40,
     "metadata": {},
     "output_type": "execute_result"
    }
   ],
   "source": [
    "SETS"
   ]
  },
  {
   "cell_type": "code",
   "execution_count": 41,
   "metadata": {},
   "outputs": [
    {
     "data": {
      "text/plain": [
       "array([4206.42208336, 4244.01752492, 4255.77232477, 4340.49363364,\n",
       "       4185.28804627, 4267.53007698, 4338.13821914, 4281.64326737,\n",
       "       4408.8509954 , 4375.83876704, 4204.07337938, 4397.05832527,\n",
       "       4349.9164532 , 4312.23634388, 4248.71909015, 4342.84916435,\n",
       "       4295.76068812, 4192.3316498 , 4427.7252309 , 4248.71909015,\n",
       "       4117.25565091, 4283.99587736, 4218.16739056, 4279.29077488,\n",
       "       4215.81809099, 4281.64326737, 4131.32299197, 4321.65357566,\n",
       "       4394.70013598, 4208.77090657, 4218.16739056, 4213.46891044,\n",
       "       4119.59990474, 4361.69758725, 4194.67975683, 4187.63579447,\n",
       "       4291.05441187, 4213.46891044, 4124.28877619, 4161.81715792,\n",
       "       4397.05832527, 4215.81809099, 4180.59290909, 4100.84927462,\n",
       "       4140.70364003, 4364.05416149, 4187.63579447, 4032.94376514,\n",
       "       3937.1168582 , 4114.91151841, 4265.17829067, 4354.62855918,\n",
       "       4309.88232787, 4394.70013598, 4251.07005017, 4279.29077488,\n",
       "       4201.72479469, 4255.77232477, 4201.72479469, 4283.99587736,\n",
       "       4307.52842874, 4225.21600277, 4319.29909266, 4425.36555079,\n",
       "       4368.76765699, 4309.88232787, 4246.36824838, 4423.00598506,\n",
       "       4194.67975683, 4286.34860481, 4375.83876704, 4496.20548591,\n",
       "       4262.82662224, 4251.07005017, 4309.88232787, 4185.28804627,\n",
       "       4206.42208336, 4189.98366233, 4335.78292089, 4161.81715792,\n",
       "       4286.34860481, 4288.70144966, 4340.49363364, 4283.99587736,\n",
       "       4460.77273433, 4175.89825122, 4342.84916435, 4477.30484669,\n",
       "       4110.22361764, 4300.46743315, 4321.65357566, 4288.70144966,\n",
       "       4227.56577783, 4279.29077488, 4368.76765699, 4331.07267336,\n",
       "       4302.82098133, 4192.3316498 , 4434.80495701, 4192.3316498 ,\n",
       "       4262.82662224, 4354.62855918, 4300.46743315, 4225.21600277,\n",
       "       4359.34112875, 4253.4211284 , 4394.70013598, 4331.07267336,\n",
       "       4302.82098133, 4189.98366233, 4335.78292089, 4171.2040731 ,\n",
       "       4389.98410255, 4189.98366233, 4213.46891044, 4309.88232787,\n",
       "       4364.05416149, 4338.13821914, 4253.4211284 , 4168.85716409,\n",
       "       4474.94277609, 4364.05416149, 4378.19603466, 4295.76068812,\n",
       "       4147.74039438, 4347.56057419, 4227.56577783, 4307.52842874,\n",
       "       4361.69758725, 4312.23634388, 4229.91567163, 4199.37632933,\n",
       "       4204.07337938, 4157.12442173, 4302.82098133, 4173.55110216,\n",
       "       4347.56057419, 4404.13358281, 4269.88198111, 4328.71772419,\n",
       "       4150.08622045, 4448.96749071, 4251.07005017, 4321.65357566,\n",
       "       4345.20481122, 4154.77823418, 4208.77090657, 4189.98366233,\n",
       "       4229.91567163, 4159.47072966, 4392.34206172, 4239.31643314,\n",
       "       4225.21600277, 4208.77090657, 4276.93839996, 4331.07267336,\n",
       "       4359.34112875, 4298.11400207, 4345.20481122, 4309.88232787,\n",
       "       4286.34860481, 4206.42208336, 4300.46743315, 4215.81809099,\n",
       "       4276.93839996, 4394.70013598, 4133.66797263, 4288.70144966,\n",
       "       4241.66691982, 4309.88232787, 4175.89825122, 4145.39468892,\n",
       "       4208.77090657, 4201.72479469, 4234.61581523, 4274.58614266,\n",
       "       4171.2040731 , 4373.48161485, 4182.94041779, 4206.42208336,\n",
       "       4432.44493406, 4236.96606492, 4321.65357566, 4166.51037519,\n",
       "       4375.83876704, 4189.98366233, 4338.13821914, 4232.26568412,\n",
       "       4180.59290909, 4460.77273433, 4314.59047671, 4154.77823418,\n",
       "       4103.19267792, 4394.70013598, 4373.48161485, 4291.05441187,\n",
       "       4265.17829067, 4136.01307423, 4185.28804627, 4166.51037519,\n",
       "       4331.07267336, 4295.76068812, 4128.9781323 , 4220.51680908,\n",
       "       4234.61581523, 4298.11400207, 4232.26568412, 4458.41145814,\n",
       "       4173.55110216, 4347.56057419, 4138.35829671, 4451.32831187,\n",
       "       4387.62625851, 4248.71909015, 4215.81809099, 4117.25565091,\n",
       "       4182.94041779, 4274.58614266, 4291.05441187, 4251.07005017,\n",
       "       4364.05416149, 4152.43216707, 4305.17464654, 4161.81715792,\n",
       "       4239.31643314, 4229.91567163, 4338.13821914, 4335.78292089,\n",
       "       4154.77823418, 4208.77090657, 4305.17464654, 4265.17829067,\n",
       "       4309.88232787, 4347.56057419, 4220.51680908, 4338.13821914,\n",
       "       4331.07267336, 4161.81715792, 4441.88571072, 4307.52842874,\n",
       "       4347.56057419, 4484.39173805, 4213.46891044, 4206.42208336,\n",
       "       4114.91151841, 4283.99587736, 4157.12442173, 4305.17464654,\n",
       "       4171.2040731 , 4340.49363364, 4359.34112875, 4248.71909015,\n",
       "       4032.94376514, 4206.42208336, 4364.05416149, 4335.78292089,\n",
       "       4298.11400207, 4361.69758725, 4316.94472632, 4227.56577783,\n",
       "       4128.9781323 , 4479.66703059, 4157.12442173, 4279.29077488,\n",
       "       4314.59047671, 4293.40749137, 4321.65357566, 4378.19603466,\n",
       "       4352.27244822, 4378.19603466, 4295.76068812, 4361.69758725,\n",
       "       4291.05441187, 4406.49223172, 4281.64326737, 4345.20481122,\n",
       "       4305.17464654, 4298.11400207, 4159.47072966, 4477.30484669,\n",
       "       4354.62855918, 4121.94427986, 4298.11400207, 4316.94472632,\n",
       "       4314.59047671, 4192.3316498 , 4399.41662954, 4283.99587736,\n",
       "       4187.63579447, 4267.53007698, 4324.00817529, 4288.70144966,\n",
       "       4309.88232787, 4185.28804627, 4232.26568412, 4316.94472632,\n",
       "       4340.49363364, 4319.29909266, 4368.76765699, 4340.49363364,\n",
       "       4182.94041779, 4300.46743315, 4293.40749137, 4267.53007698,\n",
       "       4265.17829067, 4373.48161485, 4236.96606492, 4274.58614266,\n",
       "       4260.47507174, 4293.40749137, 3953.46268748, 4349.9164532 ,\n",
       "       4253.4211284 , 4385.26852964, 4267.53007698, 4373.48161485,\n",
       "       4227.56577783, 4283.99587736, 4286.34860481, 4269.88198111,\n",
       "       4281.64326737, 4147.74039438, 4222.8663465 , 4279.29077488,\n",
       "       4274.58614266, 4446.60678344, 4328.71772419, 4305.17464654,\n",
       "       4312.23634388, 4439.52534539, 4291.05441187, 4098.50599306,\n",
       "       4253.4211284 , 4251.07005017, 4140.70364003, 4140.70364003,\n",
       "       4415.92797463, 4345.20481122, 4349.9164532 , 4260.47507174,\n",
       "       4211.11984894, 4208.77090657, 4119.59990474, 4197.02798336,\n",
       "       4215.81809099, 4269.88198111, 4283.99587736, 4281.64326737,\n",
       "       4138.35829671, 4373.48161485, 4302.82098133, 4321.65357566,\n",
       "       4248.71909015, 4291.05441187, 4194.67975683, 4312.23634388,\n",
       "       4316.94472632, 4206.42208336, 4295.76068812, 4408.8509954 ,\n",
       "       4373.48161485, 4213.46891044, 4378.19603466, 4324.00817529,\n",
       "       4251.07005017, 4262.82662224, 4345.20481122, 4283.99587736,\n",
       "       4189.98366233, 4328.71772419, 4265.17829067, 4260.47507174,\n",
       "       4168.85716409, 4225.21600277, 4269.88198111, 4248.71909015,\n",
       "       4232.26568412, 4392.34206172, 4140.70364003, 4173.55110216,\n",
       "       4276.93839996, 4335.78292089, 4206.42208336, 4456.05029563,\n",
       "       4035.28361488, 4166.51037519, 4321.65357566, 4211.11984894,\n",
       "       4286.34860481, 4255.77232477, 4331.07267336, 4321.65357566,\n",
       "       4182.94041779, 4211.11984894, 4434.80495701, 4312.23634388,\n",
       "       4253.4211284 , 4206.42208336, 4274.58614266, 4187.63579447,\n",
       "       4312.23634388, 4234.61581523, 4229.91567163, 4093.81979535,\n",
       "       4505.65851672, 4213.46891044, 4291.05441187, 4418.28719693,\n",
       "       4373.48161485, 4382.91091602, 4267.53007698, 4286.34860481,\n",
       "       4204.07337938, 4324.00817529, 4382.91091602, 4159.47072966,\n",
       "       4086.7914132 , 4496.20548591, 4222.8663465 , 4420.64653375,\n",
       "       4288.70144966, 4272.23400303, 4253.4211284 , 4305.17464654,\n",
       "       4077.42194631, 4342.84916435, 4251.07005017, 4192.3316498 ,\n",
       "       4255.77232477, 4173.55110216, 4189.98366233, 4187.63579447,\n",
       "       4234.61581523, 4366.41085142, 4307.52842874, 4258.12363924,\n",
       "       4262.82662224, 4265.17829067, 4121.94427986, 4312.23634388,\n",
       "       4192.3316498 , 4434.80495701, 4385.26852964, 4281.64326737,\n",
       "       4361.69758725, 4232.26568412, 4154.77823418, 4366.41085142,\n",
       "       4262.82662224, 4255.77232477, 4437.16509413, 4345.20481122,\n",
       "       4206.42208336, 4124.28877619, 4364.05416149, 4413.56886691,\n",
       "       4281.64326737, 4265.17829067, 4201.72479469, 4091.47687932,\n",
       "       4201.72479469, 4316.94472632, 4326.36289148, 4354.62855918,\n",
       "       4333.42773894, 4218.16739056, 4333.42773894, 4283.99587736,\n",
       "       4192.3316498 , 4281.64326737, 4225.21600277, 4276.93839996,\n",
       "       4201.72479469, 4345.20481122, 4345.20481122, 4356.98478604,\n",
       "       4260.47507174, 4437.16509413, 4274.58614266, 4227.56577783,\n",
       "       4178.24552021, 4105.5362029 , 4065.71286498, 4126.63339369,\n",
       "       4493.84251034, 4222.8663465 , 4147.74039438, 4298.11400207,\n",
       "       4324.00817529, 4265.17829067, 4340.49363364, 4352.27244822,\n",
       "       4321.65357566, 4368.76765699, 4432.44493406, 4260.47507174,\n",
       "       4321.65357566, 4246.36824838, 4366.41085142, 4234.61581523,\n",
       "       4333.42773894, 4413.56886691, 4380.55341767, 4232.26568412,\n",
       "       4366.41085142, 4000.19885317, 4140.70364003, 4204.07337938,\n",
       "       4375.83876704, 4206.42208336, 4126.63339369, 4213.46891044,\n",
       "       4291.05441187, 4293.40749137, 4255.77232477, 4342.84916435,\n",
       "       4352.27244822, 4401.77504873, 4295.76068812, 4234.61581523,\n",
       "       4361.69758725, 4286.34860481, 4244.01752492, 4307.52842874,\n",
       "       4283.99587736, 4328.71772419, 4208.77090657, 4225.21600277,\n",
       "       4418.28719693, 4477.30484669, 4201.72479469, 4239.31643314,\n",
       "       4269.88198111, 4305.17464654, 4260.47507174, 4352.27244822,\n",
       "       4265.17829067, 4262.82662224, 4356.98478604, 4189.98366233,\n",
       "       4128.9781323 , 4366.41085142, 4255.77232477, 4307.52842874,\n",
       "       4349.9164532 , 4204.07337938, 4456.05029563, 4258.12363924,\n",
       "       4356.98478604, 4150.08622045, 4126.63339369, 4305.17464654,\n",
       "       4121.94427986, 4439.52534539, 4288.70144966, 4175.89825122,\n",
       "       4199.37632933, 4281.64326737, 4267.53007698, 4286.34860481,\n",
       "       4324.00817529, 4399.41662954, 4121.94427986, 4279.29077488,\n",
       "       4298.11400207, 4340.49363364, 4392.34206172, 4189.98366233,\n",
       "       4056.34780622, 4246.36824838, 4359.34112875, 4293.40749137,\n",
       "       4180.59290909, 4404.13358281, 4373.48161485, 4239.31643314,\n",
       "       4349.9164532 , 4335.78292089, 4279.29077488, 4338.13821914,\n",
       "       4187.63579447, 4493.84251034, 4404.13358281, 4328.71772419,\n",
       "       4272.23400303, 4272.23400303, 4312.23634388, 4397.05832527,\n",
       "       4333.42773894, 4143.04910411, 4371.12457815, 4173.55110216,\n",
       "       4269.88198111, 4208.77090657, 4316.94472632, 4510.38570856,\n",
       "       4375.83876704, 4276.93839996, 4276.93839996, 4166.51037519,\n",
       "       4220.51680908, 4180.59290909, 4328.71772419, 4037.62358797,\n",
       "       4211.11984894, 4147.74039438, 4298.11400207, 4316.94472632,\n",
       "       4425.36555079, 4401.77504873, 4239.31643314, 4260.47507174,\n",
       "       4352.27244822, 4333.42773894, 4453.68924686, 4128.9781323 ,\n",
       "       4366.41085142, 4286.34860481, 4103.19267792, 4298.11400207,\n",
       "       4366.41085142, 4286.34860481, 4253.4211284 , 4387.62625851,\n",
       "       4382.91091602, 4185.28804627, 4173.55110216, 4314.59047671,\n",
       "       4255.77232477, 4394.70013598, 4467.85724452, 4385.26852964,\n",
       "       4105.5362029 , 4295.76068812, 4269.88198111, 4093.81979535,\n",
       "       4089.13408525, 4208.77090657, 4389.98410255, 4347.56057419,\n",
       "       4166.51037519, 4260.47507174, 4328.71772419, 4255.77232477,\n",
       "       4349.9164532 , 4276.93839996, 4199.37632933, 4463.13412416,\n",
       "       4361.69758725, 4234.61581523, 4192.3316498 , 4211.11984894,\n",
       "       4354.62855918, 4347.56057419, 4411.20987381, 4448.96749071,\n",
       "       4213.46891044, 4366.41085142, 4364.05416149, 4283.99587736,\n",
       "       4248.71909015, 4241.66691982, 4166.51037519, 4281.64326737,\n",
       "       4366.41085142, 4392.34206172, 4086.7914132 , 4474.94277609,\n",
       "       4340.49363364, 4173.55110216, 4258.12363924, 4192.3316498 ,\n",
       "       4321.65357566, 4508.02205631, 4201.72479469, 4227.56577783,\n",
       "       4298.11400207, 4293.40749137, 4248.71909015, 4124.28877619,\n",
       "       4316.94472632, 4215.81809099, 4082.10643538, 4316.94472632,\n",
       "       4298.11400207, 4456.05029563, 4331.07267336, 4279.29077488,\n",
       "       4211.11984894, 4236.96606492, 4349.9164532 , 4161.81715792,\n",
       "       4331.07267336, 4316.94472632, 4331.07267336, 4364.05416149,\n",
       "       4340.49363364, 4309.88232787, 4072.73794646, 4316.94472632,\n",
       "       4159.47072966, 4371.12457815, 4316.94472632, 4286.34860481,\n",
       "       4302.82098133, 4255.77232477, 4255.77232477, 4545.85397874,\n",
       "       4246.36824838, 4425.36555079, 4364.05416149, 4152.43216707,\n",
       "       4324.00817529, 4295.76068812, 4288.70144966, 4423.00598506,\n",
       "       4262.82662224, 4373.48161485, 4199.37632933, 4166.51037519,\n",
       "       4361.69758725, 4269.88198111, 4274.58614266, 4361.69758725,\n",
       "       4096.16283328, 4413.56886691, 4274.58614266, 4110.22361764,\n",
       "       4286.34860481, 4368.76765699, 4361.69758725, 4276.93839996,\n",
       "       4075.07988521, 4161.81715792, 4220.51680908, 4385.26852964,\n",
       "       4075.07988521, 4347.56057419, 4401.77504873, 4220.51680908,\n",
       "       4260.47507174, 4136.01307423, 4253.4211284 , 4324.00817529,\n",
       "       4159.47072966, 4215.81809099, 4293.40749137, 4260.47507174,\n",
       "       4204.07337938, 4404.13358281, 4241.66691982, 4276.93839996,\n",
       "       4234.61581523, 4204.07337938, 4338.13821914, 4229.91567163,\n",
       "       4075.07988521, 4258.12363924, 4206.42208336, 4446.60678344,\n",
       "       4408.8509954 , 4189.98366233, 4232.26568412, 4171.2040731 ,\n",
       "       4364.05416149, 4286.34860481, 4309.88232787, 4293.40749137,\n",
       "       4244.01752492, 4385.26852964, 4255.77232477, 4065.71286498,\n",
       "       4300.46743315, 4340.49363364, 4218.16739056, 4258.12363924,\n",
       "       4340.49363364, 4335.78292089, 4321.65357566, 4309.88232787,\n",
       "       4244.01752492, 4427.7252309 , 4222.8663465 , 4279.29077488,\n",
       "       4342.84916435, 4293.40749137, 4236.96606492, 4331.07267336,\n",
       "       4136.01307423, 4319.29909266, 4458.41145814, 4152.43216707,\n",
       "       4300.46743315, 4251.07005017, 4229.91567163, 4208.77090657,\n",
       "       4185.28804627, 4274.58614266, 4288.70144966, 4380.55341767,\n",
       "       4288.70144966, 4222.8663465 , 4423.00598506, 4091.47687932,\n",
       "       4505.65851672, 4349.9164532 , 4309.88232787, 4232.26568412,\n",
       "       4397.05832527, 4324.00817529, 4288.70144966, 4225.21600277,\n",
       "       4159.47072966, 4192.3316498 , 4331.07267336, 4354.62855918,\n",
       "       4333.42773894, 4312.23634388, 4465.49562757, 4201.72479469,\n",
       "       4364.05416149, 4225.21600277, 4279.29077488, 4399.41662954,\n",
       "       4345.20481122, 4378.19603466, 4255.77232477, 4192.3316498 ,\n",
       "       4211.11984894, 4335.78292089, 4185.28804627, 4338.13821914,\n",
       "       4201.72479469, 4253.4211284 , 4246.36824838, 4260.47507174,\n",
       "       4338.13821914, 4251.07005017, 4229.91567163, 4197.02798336,\n",
       "       4366.41085142, 4427.7252309 , 4326.36289148, 4016.56827561,\n",
       "       4262.82662224, 4180.59290909, 4288.70144966, 4389.98410255,\n",
       "       4265.17829067, 4225.21600277, 4232.26568412, 4305.17464654,\n",
       "       4119.59990474, 4364.05416149, 4220.51680908, 4451.32831187,\n",
       "       4171.2040731 , 4175.89825122, 4368.76765699, 4411.20987381,\n",
       "       4331.07267336, 4371.12457815, 4161.81715792, 4434.80495701,\n",
       "       4364.05416149, 4349.9164532 , 4220.51680908, 4246.36824838,\n",
       "       4387.62625851, 4208.77090657, 4427.7252309 , 4382.91091602,\n",
       "       4213.46891044, 4333.42773894, 4265.17829067, 4307.52842874,\n",
       "       4267.53007698, 4352.27244822, 4192.3316498 , 4300.46743315,\n",
       "       4281.64326737, 4446.60678344, 4378.19603466, 4484.39173805,\n",
       "       4314.59047671, 4175.89825122, 4229.91567163, 4293.40749137,\n",
       "       4236.96606492, 4279.29077488, 4335.78292089, 4100.84927462,\n",
       "       4441.88571072, 4401.77504873, 4227.56577783, 4394.70013598,\n",
       "       4150.08622045, 4373.48161485, 4185.28804627, 4084.44886322,\n",
       "       4232.26568412, 4159.47072966, 4288.70144966, 4229.91567163,\n",
       "       4283.99587736, 4267.53007698, 4255.77232477, 4423.00598506,\n",
       "       4319.29909266, 4192.3316498 , 4364.05416149, 4489.1168981 ,\n",
       "       4218.16739056, 4286.34860481, 4283.99587736, 4194.67975683,\n",
       "       4180.59290909, 4145.39468892, 4373.48161485, 4418.28719693,\n",
       "       4427.7252309 , 4307.52842874, 4274.58614266, 4342.84916435,\n",
       "       4279.29077488, 4489.1168981 , 4387.62625851, 4171.2040731 ,\n",
       "       4253.4211284 , 4593.18414038, 4366.41085142, 4187.63579447,\n",
       "       4293.40749137, 4408.8509954 , 4399.41662954, 4253.4211284 ,\n",
       "       4222.8663465 , 4140.70364003, 4218.16739056, 4253.4211284 ,\n",
       "       4136.01307423, 4204.07337938, 4415.92797463, 4472.58081882,\n",
       "       4265.17829067, 4378.19603466, 4265.17829067, 4215.81809099,\n",
       "       4246.36824838, 4281.64326737, 4401.77504873, 4312.23634388,\n",
       "       4189.98366233, 4244.01752492, 4208.77090657, 4152.43216707,\n",
       "       4218.16739056, 4286.34860481, 4234.61581523, 4380.55341767,\n",
       "       4086.7914132 , 4260.47507174, 4354.62855918, 4232.26568412,\n",
       "       4236.96606492, 4338.13821914, 4042.30390397, 4147.74039438,\n",
       "       4314.59047671, 4432.44493406, 4189.98366233, 4458.41145814,\n",
       "       4387.62625851, 4288.70144966, 4150.08622045, 4335.78292089,\n",
       "       4220.51680908, 4371.12457815, 4236.96606492, 4288.70144966,\n",
       "       4213.46891044, 4427.7252309 , 4213.46891044, 4201.72479469,\n",
       "       4222.8663465 , 4124.28877619, 4251.07005017, 4225.21600277,\n",
       "       4361.69758725, 4192.3316498 , 4368.76765699, 4399.41662954,\n",
       "       4319.29909266, 4406.49223172, 4340.49363364, 4267.53007698,\n",
       "       4531.66364055, 4309.88232787, 4215.81809099, 4187.63579447])"
      ]
     },
     "execution_count": 41,
     "metadata": {},
     "output_type": "execute_result"
    }
   ],
   "source": [
    "COSTS"
   ]
  },
  {
   "cell_type": "code",
   "execution_count": 42,
   "metadata": {},
   "outputs": [],
   "source": [
    "def valid(solution):\n",
    "    \"\"\"Checks wether solution is valid (ie. covers all universe)\"\"\"\n",
    "    return np.all(np.logical_or.reduce(SETS[solution]))\n",
    "\n",
    "\n",
    "def cost(solution):\n",
    "    \"\"\"Returns the cost of a solution (to be minimized)\"\"\"\n",
    "    return COSTS[solution].sum()"
   ]
  },
  {
   "cell_type": "code",
   "execution_count": 43,
   "metadata": {},
   "outputs": [],
   "source": [
    "def tweak(solution, tabu_list, tabu_tenure=5):\n",
    "    new_solution = solution.copy()\n",
    "    index = None\n",
    "    attempts = 0\n",
    "    max_attempts = 150  # Limit the number of attempts to avoid infinite loops\n",
    "\n",
    "    while (index is None or np.random.random() < 0.4) and attempts < max_attempts:\n",
    "        index = np.random.randint(0, NUM_SETS)\n",
    "        if index not in tabu_list:\n",
    "            new_solution[index] = not new_solution[index]\n",
    "            tabu_list.append(index)\n",
    "            if len(tabu_list) > tabu_tenure:\n",
    "                tabu_list.pop(0)  # Maintain the tabu list size\n",
    "            break\n",
    "        attempts += 1\n",
    "\n",
    "    return new_solution"
   ]
  },
  {
   "cell_type": "code",
   "execution_count": 44,
   "metadata": {},
   "outputs": [
    {
     "name": "stderr",
     "output_type": "stream",
     "text": [
      "100%|██████████| 10000/10000 [00:03<00:00, 2519.40it/s]\n",
      "ic| cost(solution): np.float64(132245.83168621233)\n",
      "ic| history.index(cost(solution)): 6349\n"
     ]
    },
    {
     "data": {
      "image/png": "[encoded data removed]",
      "text/plain": [
       "<Figure size 1400x800 with 1 Axes>"
      ]
     },
     "metadata": {},
     "output_type": "display_data"
    }
   ],
   "source": [
    "solution = np.full(NUM_SETS, True)\n",
    "\n",
    "history = [cost(solution)]\n",
    "tabu_list = []\n",
    "\n",
    "for n in tqdm(range(UNIVERSE_SIZE)):\n",
    "    new_solution = tweak(solution, tabu_list)\n",
    "    if cost(new_solution) < cost(solution) and valid(new_solution):\n",
    "        solution = new_solution\n",
    "    history.append(cost(solution))\n",
    "\n",
    "        \n",
    "ic(cost(solution))\n",
    "ic(history.index(cost(solution)))\n",
    "##print(history)\n",
    "\n",
    "plt.figure(figsize=(14, 8))\n",
    "plt.plot(\n",
    "    range(len(history)),\n",
    "    list(accumulate(history, min)),\n",
    "    color=\"red\",\n",
    ")\n",
    "_ = plt.scatter(range(len(history)), history, marker=\".\")"
   ]
  },
  {
   "cell_type": "code",
   "execution_count": null,
   "metadata": {},
   "outputs": [],
   "source": [
    "UNIVERSE_SIZE = 100000\n",
    "NUM_SETS = 10000\n",
    "DENSITY = 0.1\n",
    "\n",
    "rng = np.random.Generator(np.random.PCG64([UNIVERSE_SIZE, NUM_SETS, int(10_000 * DENSITY)]))"
   ]
  },
  {
   "cell_type": "code",
   "execution_count": null,
   "metadata": {},
   "outputs": [],
   "source": [
    "# DON'T EDIT THESE LINES!\n",
    "\n",
    "SETS = np.random.random((NUM_SETS, UNIVERSE_SIZE)) < DENSITY\n",
    "for s in range(UNIVERSE_SIZE):\n",
    "    if not np.any(SETS[:, s]):\n",
    "        SETS[np.random.randint(NUM_SETS), s] = True\n",
    "COSTS = np.pow(SETS.sum(axis=1), 1.1)"
   ]
  },
  {
   "cell_type": "code",
   "execution_count": null,
   "metadata": {},
   "outputs": [],
   "source": [
    "solution = np.full(NUM_SETS, True)\n",
    "\n",
    "history = [cost(solution)]\n",
    "tabu_list = []\n",
    "\n",
    "for n in tqdm(range(UNIVERSE_SIZE)):\n",
    "    new_solution = tweak(solution, tabu_list)\n",
    "    if cost(new_solution) < cost(solution) and valid(new_solution):\n",
    "        solution = new_solution\n",
    "    history.append(cost(solution))\n",
    "\n",
    "        \n",
    "ic(cost(solution))\n",
    "ic(history.index(cost(solution)))\n",
    "##print(history)\n",
    "\n",
    "plt.figure(figsize=(14, 8))\n",
    "plt.plot(\n",
    "    range(len(history)),\n",
    "    list(accumulate(history, min)),\n",
    "    color=\"red\",\n",
    ")\n",
    "_ = plt.scatter(range(len(history)), history, marker=\".\")"
   ]
  },
  {
   "cell_type": "code",
   "execution_count": null,
   "metadata": {},
   "outputs": [],
   "source": [
    "UNIVERSE_SIZE = 100000\n",
    "NUM_SETS = 10000\n",
    "DENSITY = 0.2\n",
    "\n",
    "rng = np.random.Generator(np.random.PCG64([UNIVERSE_SIZE, NUM_SETS, int(10_000 * DENSITY)]))"
   ]
  },
  {
   "cell_type": "code",
   "execution_count": null,
   "metadata": {},
   "outputs": [],
   "source": [
    "# DON'T EDIT THESE LINES!\n",
    "\n",
    "SETS = np.random.random((NUM_SETS, UNIVERSE_SIZE)) < DENSITY\n",
    "for s in range(UNIVERSE_SIZE):\n",
    "    if not np.any(SETS[:, s]):\n",
    "        SETS[np.random.randint(NUM_SETS), s] = True\n",
    "COSTS = np.pow(SETS.sum(axis=1), 1.1)"
   ]
  },
  {
   "cell_type": "code",
   "execution_count": null,
   "metadata": {},
   "outputs": [],
   "source": [
    "solution = np.full(NUM_SETS, True)\n",
    "\n",
    "history = [cost(solution)]\n",
    "tabu_list = []\n",
    "\n",
    "for n in tqdm(range(UNIVERSE_SIZE)):\n",
    "    new_solution = tweak(solution, tabu_list)\n",
    "    if cost(new_solution) < cost(solution) and valid(new_solution):\n",
    "        solution = new_solution\n",
    "    history.append(cost(solution))\n",
    "\n",
    "        \n",
    "ic(cost(solution))\n",
    "ic(history.index(cost(solution)))\n",
    "##print(history)\n",
    "\n",
    "plt.figure(figsize=(14, 8))\n",
    "plt.plot(\n",
    "    range(len(history)),\n",
    "    list(accumulate(history, min)),\n",
    "    color=\"red\",\n",
    ")\n",
    "_ = plt.scatter(range(len(history)), history, marker=\".\")"
   ]
  },
  {
   "cell_type": "code",
   "execution_count": null,
   "metadata": {},
   "outputs": [],
   "source": [
    "UNIVERSE_SIZE = 100000\n",
    "NUM_SETS = 10000\n",
    "DENSITY = 0.3\n",
    "\n",
    "rng = np.random.Generator(np.random.PCG64([UNIVERSE_SIZE, NUM_SETS, int(10_000 * DENSITY)]))"
   ]
  },
  {
   "cell_type": "code",
   "execution_count": null,
   "metadata": {},
   "outputs": [],
   "source": [
    "# DON'T EDIT THESE LINES!\n",
    "\n",
    "SETS = np.random.random((NUM_SETS, UNIVERSE_SIZE)) < DENSITY\n",
    "for s in range(UNIVERSE_SIZE):\n",
    "    if not np.any(SETS[:, s]):\n",
    "        SETS[np.random.randint(NUM_SETS), s] = True\n",
    "COSTS = np.pow(SETS.sum(axis=1), 1.1)"
   ]
  },
  {
   "cell_type": "code",
   "execution_count": null,
   "metadata": {},
   "outputs": [],
   "source": [
    "solution = np.full(NUM_SETS, True)\n",
    "\n",
    "history = [cost(solution)]\n",
    "tabu_list = []\n",
    "\n",
    "for n in tqdm(range(UNIVERSE_SIZE)):\n",
    "    new_solution = tweak(solution, tabu_list)\n",
    "    if cost(new_solution) < cost(solution) and valid(new_solution):\n",
    "        solution = new_solution\n",
    "    history.append(cost(solution))\n",
    "\n",
    "        \n",
    "ic(cost(solution))\n",
    "ic(history.index(cost(solution)))\n",
    "##print(history)\n",
    "\n",
    "plt.figure(figsize=(14, 8))\n",
    "plt.plot(\n",
    "    range(len(history)),\n",
    "    list(accumulate(history, min)),\n",
    "    color=\"red\",\n",
    ")\n",
    "_ = plt.scatter(range(len(history)), history, marker=\".\")"
   ]
  },
  {
   "cell_type": "markdown",
   "metadata": {},
   "source": [
    "## Have Fun!"
   ]
  },
  {
   "cell_type": "code",
   "execution_count": 29,
   "metadata": {},
   "outputs": [
    {
     "name": "stderr",
     "output_type": "stream",
     "text": [
      "ic| valid(solution): np.True_\n",
      "    cost(solution): np.float64(311.58944498102085)\n"
     ]
    },
    {
     "data": {
      "text/plain": [
       "(np.True_, np.float64(311.58944498102085))"
      ]
     },
     "execution_count": 29,
     "metadata": {},
     "output_type": "execute_result"
    }
   ],
   "source": [
    "# A dumb solution of \"all\" sets\n",
    "solution = np.full(NUM_SETS, True)\n",
    "valid(solution), cost(solution)"
   ]
  },
  {
   "cell_type": "code",
   "execution_count": 30,
   "metadata": {},
   "outputs": [
    {
     "name": "stderr",
     "output_type": "stream",
     "text": [
      "ic| valid(solution): np.False_\n",
      "    cost(solution): np.float64(122.15467630038168)\n"
     ]
    },
    {
     "data": {
      "text/plain": [
       "(np.False_, np.float64(122.15467630038168))"
      ]
     },
     "execution_count": 30,
     "metadata": {},
     "output_type": "execute_result"
    }
   ],
   "source": [
    "# A random solution with random 50% of the sets\n",
    "solution = rng.random(NUM_SETS) < .5\n",
    "valid(solution), cost(solution)"
   ]
  }
 ],
 "metadata": {
  "kernelspec": {
   "display_name": "Python 3",
   "language": "python",
   "name": "python3"
  },
  "language_info": {
   "codemirror_mode": {
    "name": "ipython",
    "version": 3
   },
   "file_extension": ".py",
   "mimetype": "text/x-python",
   "name": "python",
   "nbconvert_exporter": "python",
   "pygments_lexer": "ipython3",
   "version": "3.10.0"
  }
 },
 "nbformat": 4,
 "nbformat_minor": 4
}
